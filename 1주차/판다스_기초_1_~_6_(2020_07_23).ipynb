{
  "nbformat": 4,
  "nbformat_minor": 0,
  "metadata": {
    "colab": {
      "name": "판다스 기초 1 ~ 6 (2020-07-23).ipynb",
      "provenance": [],
      "authorship_tag": "ABX9TyMFzqV2KEuwrU+u8BkgmHXT",
      "include_colab_link": true
    },
    "kernelspec": {
      "name": "python3",
      "display_name": "Python 3"
    }
  },
  "cells": [
    {
      "cell_type": "markdown",
      "metadata": {
        "id": "view-in-github",
        "colab_type": "text"
      },
      "source": [
        "<a href=\"https://colab.research.google.com/github/cherrrity/SOLUX_summer_data/blob/master/%ED%8C%90%EB%8B%A4%EC%8A%A4_%EA%B8%B0%EC%B4%88_1_~_6_(2020_07_23).ipynb\" target=\"_parent\"><img src=\"https://colab.research.google.com/assets/colab-badge.svg\" alt=\"Open In Colab\"/></a>"
      ]
    },
    {
      "cell_type": "code",
      "metadata": {
        "id": "wC1R5vVgjo20",
        "colab_type": "code",
        "colab": {}
      },
      "source": [
        "#여기에 주차별 강의를 들으면서 따라해 주시면 됩니다..!\n",
        "\n",
        "#꼭 옆의 실행 버튼을 눌러 실행 된 모습으로 저장해 주세요..!"
      ],
      "execution_count": 2,
      "outputs": []
    }
  ]
}